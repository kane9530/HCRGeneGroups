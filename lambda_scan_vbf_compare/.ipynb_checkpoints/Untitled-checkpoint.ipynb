{
 "cells": [
  {
   "cell_type": "markdown",
   "metadata": {},
   "source": [
    "# A beginner's guide to confocal fluorescent microscopy\n",
    "\n",
    "* Kane Toh\n",
    "\n",
    "* Last updated: 10/03/2020\n"
   ]
  },
  {
   "cell_type": "markdown",
   "metadata": {},
   "source": [
    "## Introduction\n",
    "\n",
    "Fluorophores are fluorescent chemical compounds. Fluorescent molecules absorb energy at a specific wavelength and re-emit light at a longer wavelength. For instance, the fluorophore Alexa Fluor 488 is a green fluorescent dye that has its characteristic excitation and emission distribution fingerprints. It absorbs light maximally at around 490 nm and emits light maximally at around 525 nm. Fluorophores differ in their emission spectra with regards to key properties of the distribution, such as the peak emission wavelength, number of maxima, symmetry and bandwidth. \n",
    "\n",
    "In multi-labelling experiments where the specimen of interest is tagged with multiple fluorophores, a significant challenge faced in image acquisition is the task of discriminating between the emitted signals. This stems from the fact that the emission spectra of different fluorophores have significant degrees of overlap. This phenomenon is called spectral bleed-through and creates artifacts in imaging. A target fluorophore signal is reported to be present although in actuality, the signal is emitted from another fluorophore which has passed through the filter set reserved for the target fluorophore. \n",
    "\n",
    "One way to "
   ]
  }
 ],
 "metadata": {
  "kernelspec": {
   "display_name": "Python 3",
   "language": "python",
   "name": "python3"
  },
  "language_info": {
   "codemirror_mode": {
    "name": "ipython",
    "version": 3
   },
   "file_extension": ".py",
   "mimetype": "text/x-python",
   "name": "python",
   "nbconvert_exporter": "python",
   "pygments_lexer": "ipython3",
   "version": "3.7.3"
  }
 },
 "nbformat": 4,
 "nbformat_minor": 2
}
