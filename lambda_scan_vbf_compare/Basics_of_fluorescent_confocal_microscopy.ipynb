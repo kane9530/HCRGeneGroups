{
 "cells": [
  {
   "cell_type": "markdown",
   "metadata": {},
   "source": [
    "# Basics of confocal fluorescent microscopy\n",
    "\n",
    "* Kane Toh\n",
    "\n",
    "* Last updated: 10/03/2020\n"
   ]
  },
  {
   "cell_type": "markdown",
   "metadata": {},
   "source": [
    "## Introduction\n",
    "\n",
    "Fluorophores are fluorescent chemical compounds. Fluorescent molecules absorb energy at a specific wavelength and re-emit light at a longer wavelength. For instance, the fluorophore Alexa Fluor 488 is a green fluorescent dye that has its characteristic excitation and emission distribution fingerprints. It absorbs light maximally at around 490 nm and emits light maximally at around 525 nm. Fluorophores differ in their emission spectra with regards to key properties of the distribution, such as the peak emission wavelength, number of maxima, symmetry and bandwidth. \n"
   ]
  },
  {
   "cell_type": "markdown",
   "metadata": {},
   "source": [
    "## Filters\n",
    "Test\n",
    "\n",
    "Test2\n"
   ]
  }
 ],
 "metadata": {
  "kernelspec": {
   "display_name": "Python 3",
   "language": "python",
   "name": "python3"
  },
  "language_info": {
   "codemirror_mode": {
    "name": "ipython",
    "version": 3
   },
   "file_extension": ".py",
   "mimetype": "text/x-python",
   "name": "python",
   "nbconvert_exporter": "python",
   "pygments_lexer": "ipython3",
   "version": "3.7.3"
  },
  "toc": {
   "base_numbering": 1,
   "nav_menu": {},
   "number_sections": false,
   "sideBar": true,
   "skip_h1_title": true,
   "title_cell": "Table of Contents",
   "title_sidebar": "Contents",
   "toc_cell": false,
   "toc_position": {
    "height": "calc(100% - 180px)",
    "left": "10px",
    "top": "150px",
    "width": "307.2px"
   },
   "toc_section_display": true,
   "toc_window_display": true
  }
 },
 "nbformat": 4,
 "nbformat_minor": 2
}
